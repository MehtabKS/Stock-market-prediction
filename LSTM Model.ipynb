{
 "cells": [
  {
   "cell_type": "code",
   "execution_count": 2,
   "id": "8d3067f0-390a-4cbe-8c20-3cef6fff27ea",
   "metadata": {},
   "outputs": [],
   "source": [
    "# Lib imports for Data Reading, Partition into training and testing set: Standard size 70-30%\n",
    "import numpy as np\n",
    "import pandas as pd\n",
    "import datetime as dt \n",
    "import matplotlib.pyplot as plt\n",
    "import pandas_datareader as pdr\n",
    "from sklearn.preprocessing import MinMaxScaler  # Scale down the training data & conversion into Array"
   ]
  },
  {
   "cell_type": "code",
   "execution_count": 3,
   "id": "e3b854ba-0566-420f-af28-d759110796a5",
   "metadata": {},
   "outputs": [
    {
     "data": {
      "text/html": [
       "<div>\n",
       "<style scoped>\n",
       "    .dataframe tbody tr th:only-of-type {\n",
       "        vertical-align: middle;\n",
       "    }\n",
       "\n",
       "    .dataframe tbody tr th {\n",
       "        vertical-align: top;\n",
       "    }\n",
       "\n",
       "    .dataframe thead th {\n",
       "        text-align: right;\n",
       "    }\n",
       "</style>\n",
       "<table border=\"1\" class=\"dataframe\">\n",
       "  <thead>\n",
       "    <tr style=\"text-align: right;\">\n",
       "      <th></th>\n",
       "      <th>Open</th>\n",
       "      <th>High</th>\n",
       "      <th>Low</th>\n",
       "      <th>Close</th>\n",
       "      <th>Adj Close</th>\n",
       "      <th>Volume</th>\n",
       "    </tr>\n",
       "    <tr>\n",
       "      <th>Date</th>\n",
       "      <th></th>\n",
       "      <th></th>\n",
       "      <th></th>\n",
       "      <th></th>\n",
       "      <th></th>\n",
       "      <th></th>\n",
       "    </tr>\n",
       "  </thead>\n",
       "  <tbody>\n",
       "    <tr>\n",
       "      <th>2005-01-03</th>\n",
       "      <td>1.800000</td>\n",
       "      <td>1.800000</td>\n",
       "      <td>1.645714</td>\n",
       "      <td>1.702857</td>\n",
       "      <td>1.702857</td>\n",
       "      <td>11334400</td>\n",
       "    </tr>\n",
       "    <tr>\n",
       "      <th>2005-01-04</th>\n",
       "      <td>1.702857</td>\n",
       "      <td>1.707143</td>\n",
       "      <td>1.607143</td>\n",
       "      <td>1.665714</td>\n",
       "      <td>1.665714</td>\n",
       "      <td>17352300</td>\n",
       "    </tr>\n",
       "    <tr>\n",
       "      <th>2005-01-05</th>\n",
       "      <td>1.677143</td>\n",
       "      <td>1.677143</td>\n",
       "      <td>1.584286</td>\n",
       "      <td>1.600000</td>\n",
       "      <td>1.600000</td>\n",
       "      <td>12732300</td>\n",
       "    </tr>\n",
       "    <tr>\n",
       "      <th>2005-01-06</th>\n",
       "      <td>1.600000</td>\n",
       "      <td>1.624286</td>\n",
       "      <td>1.572857</td>\n",
       "      <td>1.578571</td>\n",
       "      <td>1.578571</td>\n",
       "      <td>8273300</td>\n",
       "    </tr>\n",
       "    <tr>\n",
       "      <th>2005-01-07</th>\n",
       "      <td>1.587143</td>\n",
       "      <td>1.650000</td>\n",
       "      <td>1.571429</td>\n",
       "      <td>1.588571</td>\n",
       "      <td>1.588571</td>\n",
       "      <td>7490700</td>\n",
       "    </tr>\n",
       "  </tbody>\n",
       "</table>\n",
       "</div>"
      ],
      "text/plain": [
       "                Open      High       Low     Close  Adj Close    Volume\n",
       "Date                                                                   \n",
       "2005-01-03  1.800000  1.800000  1.645714  1.702857   1.702857  11334400\n",
       "2005-01-04  1.702857  1.707143  1.607143  1.665714   1.665714  17352300\n",
       "2005-01-05  1.677143  1.677143  1.584286  1.600000   1.600000  12732300\n",
       "2005-01-06  1.600000  1.624286  1.572857  1.578571   1.578571   8273300\n",
       "2005-01-07  1.587143  1.650000  1.571429  1.588571   1.588571   7490700"
      ]
     },
     "execution_count": 3,
     "metadata": {},
     "output_type": "execute_result"
    }
   ],
   "source": [
    "df = pd.read_csv ('./NFLX.csv', index_col='Date')\n",
    "df.head()"
   ]
  },
  {
   "cell_type": "code",
   "execution_count": 4,
   "id": "dad9b6df-bc98-4d24-bc95-cd20c0f9ff4a",
   "metadata": {},
   "outputs": [
    {
     "data": {
      "text/html": [
       "<div>\n",
       "<style scoped>\n",
       "    .dataframe tbody tr th:only-of-type {\n",
       "        vertical-align: middle;\n",
       "    }\n",
       "\n",
       "    .dataframe tbody tr th {\n",
       "        vertical-align: top;\n",
       "    }\n",
       "\n",
       "    .dataframe thead th {\n",
       "        text-align: right;\n",
       "    }\n",
       "</style>\n",
       "<table border=\"1\" class=\"dataframe\">\n",
       "  <thead>\n",
       "    <tr style=\"text-align: right;\">\n",
       "      <th></th>\n",
       "      <th>Date</th>\n",
       "      <th>Open</th>\n",
       "      <th>High</th>\n",
       "      <th>Low</th>\n",
       "      <th>Close</th>\n",
       "      <th>Adj Close</th>\n",
       "      <th>Volume</th>\n",
       "    </tr>\n",
       "  </thead>\n",
       "  <tbody>\n",
       "    <tr>\n",
       "      <th>0</th>\n",
       "      <td>2005-01-03</td>\n",
       "      <td>1.800000</td>\n",
       "      <td>1.800000</td>\n",
       "      <td>1.645714</td>\n",
       "      <td>1.702857</td>\n",
       "      <td>1.702857</td>\n",
       "      <td>11334400</td>\n",
       "    </tr>\n",
       "    <tr>\n",
       "      <th>1</th>\n",
       "      <td>2005-01-04</td>\n",
       "      <td>1.702857</td>\n",
       "      <td>1.707143</td>\n",
       "      <td>1.607143</td>\n",
       "      <td>1.665714</td>\n",
       "      <td>1.665714</td>\n",
       "      <td>17352300</td>\n",
       "    </tr>\n",
       "    <tr>\n",
       "      <th>2</th>\n",
       "      <td>2005-01-05</td>\n",
       "      <td>1.677143</td>\n",
       "      <td>1.677143</td>\n",
       "      <td>1.584286</td>\n",
       "      <td>1.600000</td>\n",
       "      <td>1.600000</td>\n",
       "      <td>12732300</td>\n",
       "    </tr>\n",
       "    <tr>\n",
       "      <th>3</th>\n",
       "      <td>2005-01-06</td>\n",
       "      <td>1.600000</td>\n",
       "      <td>1.624286</td>\n",
       "      <td>1.572857</td>\n",
       "      <td>1.578571</td>\n",
       "      <td>1.578571</td>\n",
       "      <td>8273300</td>\n",
       "    </tr>\n",
       "    <tr>\n",
       "      <th>4</th>\n",
       "      <td>2005-01-07</td>\n",
       "      <td>1.587143</td>\n",
       "      <td>1.650000</td>\n",
       "      <td>1.571429</td>\n",
       "      <td>1.588571</td>\n",
       "      <td>1.588571</td>\n",
       "      <td>7490700</td>\n",
       "    </tr>\n",
       "  </tbody>\n",
       "</table>\n",
       "</div>"
      ],
      "text/plain": [
       "         Date      Open      High       Low     Close  Adj Close    Volume\n",
       "0  2005-01-03  1.800000  1.800000  1.645714  1.702857   1.702857  11334400\n",
       "1  2005-01-04  1.702857  1.707143  1.607143  1.665714   1.665714  17352300\n",
       "2  2005-01-05  1.677143  1.677143  1.584286  1.600000   1.600000  12732300\n",
       "3  2005-01-06  1.600000  1.624286  1.572857  1.578571   1.578571   8273300\n",
       "4  2005-01-07  1.587143  1.650000  1.571429  1.588571   1.588571   7490700"
      ]
     },
     "execution_count": 4,
     "metadata": {},
     "output_type": "execute_result"
    }
   ],
   "source": [
    "df=df.reset_index()\n",
    "df.head()"
   ]
  },
  {
   "cell_type": "code",
   "execution_count": 5,
   "id": "74114836-6bae-4124-89c1-1286815bf5be",
   "metadata": {},
   "outputs": [],
   "source": [
    "df=df.drop(['Date', 'Adj Close'], axis =1)"
   ]
  },
  {
   "cell_type": "code",
   "execution_count": 6,
   "id": "3d5f7ed1-2734-4b5f-9ac3-cbd6bafb04d9",
   "metadata": {},
   "outputs": [
    {
     "data": {
      "text/html": [
       "<div>\n",
       "<style scoped>\n",
       "    .dataframe tbody tr th:only-of-type {\n",
       "        vertical-align: middle;\n",
       "    }\n",
       "\n",
       "    .dataframe tbody tr th {\n",
       "        vertical-align: top;\n",
       "    }\n",
       "\n",
       "    .dataframe thead th {\n",
       "        text-align: right;\n",
       "    }\n",
       "</style>\n",
       "<table border=\"1\" class=\"dataframe\">\n",
       "  <thead>\n",
       "    <tr style=\"text-align: right;\">\n",
       "      <th></th>\n",
       "      <th>Open</th>\n",
       "      <th>High</th>\n",
       "      <th>Low</th>\n",
       "      <th>Close</th>\n",
       "      <th>Volume</th>\n",
       "    </tr>\n",
       "  </thead>\n",
       "  <tbody>\n",
       "    <tr>\n",
       "      <th>4692</th>\n",
       "      <td>425.410004</td>\n",
       "      <td>427.589996</td>\n",
       "      <td>406.170013</td>\n",
       "      <td>406.929993</td>\n",
       "      <td>5687800</td>\n",
       "    </tr>\n",
       "    <tr>\n",
       "      <th>4693</th>\n",
       "      <td>412.000000</td>\n",
       "      <td>419.250000</td>\n",
       "      <td>407.559998</td>\n",
       "      <td>416.029999</td>\n",
       "      <td>5390900</td>\n",
       "    </tr>\n",
       "    <tr>\n",
       "      <th>4694</th>\n",
       "      <td>418.040009</td>\n",
       "      <td>419.829987</td>\n",
       "      <td>413.269989</td>\n",
       "      <td>418.059998</td>\n",
       "      <td>2928600</td>\n",
       "    </tr>\n",
       "    <tr>\n",
       "      <th>4695</th>\n",
       "      <td>416.000000</td>\n",
       "      <td>432.170013</td>\n",
       "      <td>414.500000</td>\n",
       "      <td>429.989990</td>\n",
       "      <td>4486700</td>\n",
       "    </tr>\n",
       "    <tr>\n",
       "      <th>4696</th>\n",
       "      <td>430.850006</td>\n",
       "      <td>438.160004</td>\n",
       "      <td>428.350006</td>\n",
       "      <td>434.670013</td>\n",
       "      <td>3625400</td>\n",
       "    </tr>\n",
       "  </tbody>\n",
       "</table>\n",
       "</div>"
      ],
      "text/plain": [
       "            Open        High         Low       Close   Volume\n",
       "4692  425.410004  427.589996  406.170013  406.929993  5687800\n",
       "4693  412.000000  419.250000  407.559998  416.029999  5390900\n",
       "4694  418.040009  419.829987  413.269989  418.059998  2928600\n",
       "4695  416.000000  432.170013  414.500000  429.989990  4486700\n",
       "4696  430.850006  438.160004  428.350006  434.670013  3625400"
      ]
     },
     "execution_count": 6,
     "metadata": {},
     "output_type": "execute_result"
    }
   ],
   "source": [
    "df.tail()"
   ]
  },
  {
   "cell_type": "code",
   "execution_count": 7,
   "id": "47af9feb-e319-4ce4-8ae2-1ee55bb0f396",
   "metadata": {},
   "outputs": [
    {
     "data": {
      "text/plain": [
       "[<matplotlib.lines.Line2D at 0x7f77a12fbfa0>]"
      ]
     },
     "execution_count": 7,
     "metadata": {},
     "output_type": "execute_result"
    },
    {
     "data": {
      "image/png": "[encoded data removed]",
      "text/plain": [
       "<Figure size 432x288 with 1 Axes>"
      ]
     },
     "metadata": {
      "needs_background": "light"
     },
     "output_type": "display_data"
    }
   ],
   "source": [
    "plt.plot(df.Close)"
   ]
  },
  {
   "cell_type": "code",
   "execution_count": 8,
   "id": "0265a3d3-c467-48ff-b8e1-58fb96b972b7",
   "metadata": {},
   "outputs": [],
   "source": [
    "ma100 = df.Close.rolling(100).mean()\n",
    "ma200 = df.Close.rolling(200).mean()\n",
    "ma300 = df.Close.rolling(300).mean()"
   ]
  },
  {
   "cell_type": "code",
   "execution_count": 9,
   "id": "fdfc9888-71d3-43d2-8a6d-2dee6c2b90e3",
   "metadata": {},
   "outputs": [
    {
     "data": {
      "text/plain": [
       "[<matplotlib.lines.Line2D at 0x7f779f21e7d0>]"
      ]
     },
     "execution_count": 9,
     "metadata": {},
     "output_type": "execute_result"
    },
    {
     "data": {
      "image/png": "[encoded data removed]",
      "text/plain": [
       "<Figure size 864x432 with 1 Axes>"
      ]
     },
     "metadata": {
      "needs_background": "light"
     },
     "output_type": "display_data"
    }
   ],
   "source": [
    "plt.figure(figsize=(12,6))\n",
    "plt.plot(df.Close)\n",
    "plt.plot(ma100,'r')\n",
    "plt.plot(ma200,'y')\n",
    "plt.plot(ma300,'g')"
   ]
  },
  {
   "cell_type": "code",
   "execution_count": 10,
   "id": "7f9ee5c9-a4cc-4dda-8b05-65a42e0c48b1",
   "metadata": {},
   "outputs": [
    {
     "data": {
      "text/plain": [
       "(4697, 5)"
      ]
     },
     "execution_count": 10,
     "metadata": {},
     "output_type": "execute_result"
    }
   ],
   "source": [
    "df.shape"
   ]
  },
  {
   "cell_type": "code",
   "execution_count": 11,
   "id": "2b580178-5bee-471d-b82b-549fca13d7d8",
   "metadata": {},
   "outputs": [
    {
     "name": "stdout",
     "output_type": "stream",
     "text": [
      "(3287, 1)\n",
      "(1410, 1)\n"
     ]
    }
   ],
   "source": [
    "#Splitting data into Training & Testing set\n",
    "data_training = pd.DataFrame(df['Close'][0:int(len(df)*0.70)])\n",
    "data_testing= pd.DataFrame(df['Close'][int(len(df)*0.70):int(len(df))])\n",
    "\n",
    "print(data_training.shape)\n",
    "print(data_testing.shape)"
   ]
  },
  {
   "cell_type": "code",
   "execution_count": 12,
   "id": "b2c603a4-0f80-4a1b-be72-12816e9a6801",
   "metadata": {},
   "outputs": [],
   "source": [
    "Scaler=MinMaxScaler(feature_range=(0,1))"
   ]
  },
  {
   "cell_type": "code",
   "execution_count": 13,
   "id": "241852ac-0646-4042-aad2-d06887af606a",
   "metadata": {},
   "outputs": [],
   "source": [
    "data_training_array=Scaler.fit_transform(data_training)"
   ]
  },
  {
   "cell_type": "code",
   "execution_count": 14,
   "id": "35b88269-cc76-4f87-9f33-b83ef3420814",
   "metadata": {},
   "outputs": [],
   "source": [
    "X_train=[]\n",
    "Y_train=[]\n",
    "for i in range (100, data_training_array.shape[0]):\n",
    "    X_train.append(data_training_array[i-100:i])\n",
    "    Y_train.append(data_training_array[i,0])\n",
    "    \n",
    "X_train,Y_train= np.array(X_train), np.array(Y_train)"
   ]
  },
  {
   "cell_type": "code",
   "execution_count": 15,
   "id": "fbe2ab94-a22b-4890-b45e-216c9616aea6",
   "metadata": {},
   "outputs": [
    {
     "name": "stderr",
     "output_type": "stream",
     "text": [
      "2023-12-01 00:32:40.528830: I tensorflow/tsl/cuda/cudart_stub.cc:28] Could not find cuda drivers on your machine, GPU will not be used.\n",
      "2023-12-01 00:32:40.581482: I tensorflow/tsl/cuda/cudart_stub.cc:28] Could not find cuda drivers on your machine, GPU will not be used.\n",
      "2023-12-01 00:32:40.582337: I tensorflow/core/platform/cpu_feature_guard.cc:182] This TensorFlow binary is optimized to use available CPU instructions in performance-critical operations.\n",
      "To enable the following instructions: AVX2 FMA, in other operations, rebuild TensorFlow with the appropriate compiler flags.\n",
      "2023-12-01 00:32:41.468906: W tensorflow/compiler/tf2tensorrt/utils/py_utils.cc:38] TF-TRT Warning: Could not find TensorRT\n"
     ]
    }
   ],
   "source": [
    "# Creation of Machine Learning Model Using LSTM \n",
    "from keras.layers import Dense, Dropout, LSTM\n",
    "from keras.models import Sequential "
   ]
  },
  {
   "cell_type": "code",
   "execution_count": 16,
   "id": "79093069-14e7-413a-90cc-474ef39621d2",
   "metadata": {},
   "outputs": [
    {
     "name": "stderr",
     "output_type": "stream",
     "text": [
      "2023-12-01 00:32:47.222452: E tensorflow/compiler/xla/stream_executor/cuda/cuda_driver.cc:268] failed call to cuInit: CUDA_ERROR_NO_DEVICE: no CUDA-capable device is detected\n"
     ]
    }
   ],
   "source": [
    "model= Sequential()\n",
    "model.add(LSTM(units=40, activation='relu', return_sequences=True, input_shape=(X_train.shape[1],1)))\n",
    "model.add(Dropout(0.2))\n",
    "\n",
    "model.add(LSTM(units=80, activation='relu', return_sequences=True))\n",
    "model.add(Dropout(0.3))\n",
    "\n",
    "model.add(LSTM(units=120, activation='relu', return_sequences=True))\n",
    "model.add(Dropout(0.4))\n",
    "\n",
    "model.add(LSTM(units=160, activation='relu'))\n",
    "model.add(Dropout(0.5))\n",
    "\n",
    "model.add(Dense(units=1))"
   ]
  },
  {
   "cell_type": "code",
   "execution_count": 17,
   "id": "6a5b8edb-0f1d-4277-957d-1aa36fc12b75",
   "metadata": {},
   "outputs": [
    {
     "name": "stdout",
     "output_type": "stream",
     "text": [
      "Model: \"sequential\"\n",
      "_________________________________________________________________\n",
      " Layer (type)                Output Shape              Param #   \n",
      "=================================================================\n",
      " lstm (LSTM)                 (None, 100, 40)           6720      \n",
      "                                                                 \n",
      " dropout (Dropout)           (None, 100, 40)           0         \n",
      "                                                                 \n",
      " lstm_1 (LSTM)               (None, 100, 80)           38720     \n",
      "                                                                 \n",
      " dropout_1 (Dropout)         (None, 100, 80)           0         \n",
      "                                                                 \n",
      " lstm_2 (LSTM)               (None, 100, 120)          96480     \n",
      "                                                                 \n",
      " dropout_2 (Dropout)         (None, 100, 120)          0         \n",
      "                                                                 \n",
      " lstm_3 (LSTM)               (None, 160)               179840    \n",
      "                                                                 \n",
      " dropout_3 (Dropout)         (None, 160)               0         \n",
      "                                                                 \n",
      " dense (Dense)               (None, 1)                 161       \n",
      "                                                                 \n",
      "=================================================================\n",
      "Total params: 321921 (1.23 MB)\n",
      "Trainable params: 321921 (1.23 MB)\n",
      "Non-trainable params: 0 (0.00 Byte)\n",
      "_________________________________________________________________\n"
     ]
    }
   ],
   "source": [
    "model.summary()"
   ]
  },
  {
   "cell_type": "code",
   "execution_count": 18,
   "id": "262f4ffe-e025-4653-a003-1d4578a073bc",
   "metadata": {},
   "outputs": [
    {
     "name": "stdout",
     "output_type": "stream",
     "text": [
      "Epoch 1/50\n",
      "100/100 [==============================] - 31s 259ms/step - loss: 0.0103\n",
      "Epoch 2/50\n",
      "100/100 [==============================] - 26s 256ms/step - loss: 0.0024\n",
      "Epoch 3/50\n",
      "100/100 [==============================] - 27s 270ms/step - loss: 0.0023\n",
      "Epoch 4/50\n",
      "100/100 [==============================] - 27s 270ms/step - loss: 0.0018\n",
      "Epoch 5/50\n",
      "100/100 [==============================] - 29s 285ms/step - loss: 0.0019\n",
      "Epoch 6/50\n",
      "100/100 [==============================] - 27s 272ms/step - loss: 0.0019\n",
      "Epoch 7/50\n",
      "100/100 [==============================] - 29s 288ms/step - loss: 0.0019\n",
      "Epoch 8/50\n",
      "100/100 [==============================] - 29s 288ms/step - loss: 0.0019\n",
      "Epoch 9/50\n",
      "100/100 [==============================] - 29s 286ms/step - loss: 0.0020\n",
      "Epoch 10/50\n",
      "100/100 [==============================] - 27s 270ms/step - loss: 0.0020\n",
      "Epoch 11/50\n",
      "100/100 [==============================] - 30s 303ms/step - loss: 0.0017\n",
      "Epoch 12/50\n",
      "100/100 [==============================] - 29s 288ms/step - loss: 0.0021\n",
      "Epoch 13/50\n",
      "100/100 [==============================] - 31s 310ms/step - loss: 0.0018\n",
      "Epoch 14/50\n",
      "100/100 [==============================] - 30s 298ms/step - loss: 0.0017\n",
      "Epoch 15/50\n",
      "100/100 [==============================] - 32s 320ms/step - loss: 0.0016\n",
      "Epoch 16/50\n",
      "100/100 [==============================] - 31s 307ms/step - loss: 0.0015\n",
      "Epoch 17/50\n",
      "100/100 [==============================] - 29s 288ms/step - loss: 0.0016\n",
      "Epoch 18/50\n",
      "100/100 [==============================] - 29s 287ms/step - loss: 0.0013\n",
      "Epoch 19/50\n",
      "100/100 [==============================] - 29s 287ms/step - loss: 0.0016\n",
      "Epoch 20/50\n",
      "100/100 [==============================] - 30s 303ms/step - loss: 0.0015\n",
      "Epoch 21/50\n",
      "100/100 [==============================] - 29s 290ms/step - loss: 0.0013\n",
      "Epoch 22/50\n",
      "100/100 [==============================] - 29s 293ms/step - loss: 0.0014\n",
      "Epoch 23/50\n",
      "100/100 [==============================] - 32s 324ms/step - loss: 0.0014\n",
      "Epoch 24/50\n",
      "100/100 [==============================] - 30s 301ms/step - loss: 0.0015\n",
      "Epoch 25/50\n",
      "100/100 [==============================] - 31s 306ms/step - loss: 0.0014\n",
      "Epoch 26/50\n",
      "100/100 [==============================] - 29s 292ms/step - loss: 0.0012\n",
      "Epoch 27/50\n",
      "100/100 [==============================] - 31s 311ms/step - loss: 0.0013\n",
      "Epoch 28/50\n",
      "100/100 [==============================] - 31s 310ms/step - loss: 0.0014\n",
      "Epoch 29/50\n",
      "100/100 [==============================] - 30s 301ms/step - loss: 0.0012\n",
      "Epoch 30/50\n",
      "100/100 [==============================] - 29s 290ms/step - loss: 0.0011\n",
      "Epoch 31/50\n",
      "100/100 [==============================] - 29s 286ms/step - loss: 0.0013\n",
      "Epoch 32/50\n",
      "100/100 [==============================] - 29s 290ms/step - loss: 0.0013\n",
      "Epoch 33/50\n",
      "100/100 [==============================] - 29s 287ms/step - loss: 0.0012\n",
      "Epoch 34/50\n",
      "100/100 [==============================] - 29s 291ms/step - loss: 0.0012\n",
      "Epoch 35/50\n",
      "100/100 [==============================] - 28s 284ms/step - loss: 0.0011\n",
      "Epoch 36/50\n",
      "100/100 [==============================] - 30s 301ms/step - loss: 0.0012\n",
      "Epoch 37/50\n",
      "100/100 [==============================] - 29s 293ms/step - loss: 0.0012\n",
      "Epoch 38/50\n",
      "100/100 [==============================] - 30s 299ms/step - loss: 0.0012\n",
      "Epoch 39/50\n",
      "100/100 [==============================] - 31s 304ms/step - loss: 0.0011\n",
      "Epoch 40/50\n",
      "100/100 [==============================] - 29s 288ms/step - loss: 0.0011\n",
      "Epoch 41/50\n",
      "100/100 [==============================] - 29s 288ms/step - loss: 0.0011\n",
      "Epoch 42/50\n",
      "100/100 [==============================] - 29s 286ms/step - loss: 0.0012\n",
      "Epoch 43/50\n",
      "100/100 [==============================] - 30s 303ms/step - loss: 0.0010\n",
      "Epoch 44/50\n",
      "100/100 [==============================] - 29s 290ms/step - loss: 0.0012\n",
      "Epoch 45/50\n",
      "100/100 [==============================] - 29s 286ms/step - loss: 0.0012\n",
      "Epoch 46/50\n",
      "100/100 [==============================] - 29s 286ms/step - loss: 0.0011\n",
      "Epoch 47/50\n",
      "100/100 [==============================] - 30s 304ms/step - loss: 0.0011\n",
      "Epoch 48/50\n",
      "100/100 [==============================] - 29s 290ms/step - loss: 0.0011\n",
      "Epoch 49/50\n",
      "100/100 [==============================] - 29s 287ms/step - loss: 0.0011\n",
      "Epoch 50/50\n",
      "100/100 [==============================] - 29s 288ms/step - loss: 0.0011\n"
     ]
    },
    {
     "data": {
      "text/plain": [
       "<keras.src.callbacks.History at 0x7f776247dcc0>"
      ]
     },
     "execution_count": 18,
     "metadata": {},
     "output_type": "execute_result"
    }
   ],
   "source": [
    "model.compile(optimizer='adam',loss='mean_squared_error')\n",
    "model.fit(X_train,Y_train,epochs=50)"
   ]
  },
  {
   "cell_type": "code",
   "execution_count": 19,
   "id": "1949f79f-2421-426d-9fc5-949c152fb8c4",
   "metadata": {},
   "outputs": [],
   "source": [
    "model.save('Keras_LSTM_Model.keras')"
   ]
  },
  {
   "cell_type": "code",
   "execution_count": 27,
   "id": "c8c060c3-25de-4b7c-8323-5326be463fc4",
   "metadata": {},
   "outputs": [],
   "source": [
    "past_100_days = data_training.tail(100)"
   ]
  },
  {
   "cell_type": "code",
   "execution_count": 28,
   "id": "e49a71de-901f-48fc-8eec-3d59bae3c34b",
   "metadata": {},
   "outputs": [],
   "source": [
    "#final_df= past_100_days.append(data_testing, ignore_index = True) \n",
    "final_df = pd.concat([past_100_days, data_testing], ignore_index=True)"
   ]
  },
  {
   "cell_type": "code",
   "execution_count": 29,
   "id": "573d15f7-1754-4432-8625-76c6a75bfb8f",
   "metadata": {},
   "outputs": [
    {
     "data": {
      "text/html": [
       "<div>\n",
       "<style scoped>\n",
       "    .dataframe tbody tr th:only-of-type {\n",
       "        vertical-align: middle;\n",
       "    }\n",
       "\n",
       "    .dataframe tbody tr th {\n",
       "        vertical-align: top;\n",
       "    }\n",
       "\n",
       "    .dataframe thead th {\n",
       "        text-align: right;\n",
       "    }\n",
       "</style>\n",
       "<table border=\"1\" class=\"dataframe\">\n",
       "  <thead>\n",
       "    <tr style=\"text-align: right;\">\n",
       "      <th></th>\n",
       "      <th>Close</th>\n",
       "    </tr>\n",
       "  </thead>\n",
       "  <tbody>\n",
       "    <tr>\n",
       "      <th>0</th>\n",
       "      <td>174.690002</td>\n",
       "    </tr>\n",
       "    <tr>\n",
       "      <th>1</th>\n",
       "      <td>174.710007</td>\n",
       "    </tr>\n",
       "    <tr>\n",
       "      <th>2</th>\n",
       "      <td>174.740005</td>\n",
       "    </tr>\n",
       "    <tr>\n",
       "      <th>3</th>\n",
       "      <td>174.520004</td>\n",
       "    </tr>\n",
       "    <tr>\n",
       "      <th>4</th>\n",
       "      <td>179.250000</td>\n",
       "    </tr>\n",
       "  </tbody>\n",
       "</table>\n",
       "</div>"
      ],
      "text/plain": [
       "        Close\n",
       "0  174.690002\n",
       "1  174.710007\n",
       "2  174.740005\n",
       "3  174.520004\n",
       "4  179.250000"
      ]
     },
     "execution_count": 29,
     "metadata": {},
     "output_type": "execute_result"
    }
   ],
   "source": [
    "final_df.head()\n"
   ]
  },
  {
   "cell_type": "code",
   "execution_count": 31,
   "id": "2b8ba941-df9e-4966-8a7d-624d2501556a",
   "metadata": {},
   "outputs": [],
   "source": [
    "input_data=Scaler.fit_transform(final_df)"
   ]
  },
  {
   "cell_type": "code",
   "execution_count": 32,
   "id": "7982182c-3203-464d-a209-1e882313ca75",
   "metadata": {},
   "outputs": [
    {
     "data": {
      "text/plain": [
       "array([[0.01583798],\n",
       "       [0.01587606],\n",
       "       [0.01593316],\n",
       "       ...,\n",
       "       [0.47911749],\n",
       "       [0.50182744],\n",
       "       [0.51073634]])"
      ]
     },
     "execution_count": 32,
     "metadata": {},
     "output_type": "execute_result"
    }
   ],
   "source": [
    "input_data"
   ]
  },
  {
   "cell_type": "code",
   "execution_count": 33,
   "id": "22d7d0e0-536f-4bca-ab5c-8edf0e4e8f6d",
   "metadata": {},
   "outputs": [
    {
     "data": {
      "text/plain": [
       "(1510, 1)"
      ]
     },
     "execution_count": 33,
     "metadata": {},
     "output_type": "execute_result"
    }
   ],
   "source": [
    "input_data.shape"
   ]
  },
  {
   "cell_type": "code",
   "execution_count": 35,
   "id": "8647a246-b45e-41ea-8190-da5272e23218",
   "metadata": {},
   "outputs": [],
   "source": [
    "x_test=[]\n",
    "y_test=[]\n",
    "\n",
    "for i in range (100, input_data.shape[0]):\n",
    "    x_test.append(input_data[i-100:i])\n",
    "    y_test.append(input_data[i,0])"
   ]
  },
  {
   "cell_type": "code",
   "execution_count": 36,
   "id": "d412538f-ca4b-4721-ac7a-ee1dfd5a9cd4",
   "metadata": {},
   "outputs": [],
   "source": [
    "x_test, y_test= np.array(x_test), np.array(y_test)"
   ]
  },
  {
   "cell_type": "code",
   "execution_count": 37,
   "id": "5233d361-24a7-439a-8ea3-cec2ee11e0f7",
   "metadata": {},
   "outputs": [
    {
     "name": "stdout",
     "output_type": "stream",
     "text": [
      "(1410, 100, 1)\n",
      "(1410,)\n"
     ]
    }
   ],
   "source": [
    "print(x_test.shape)\n",
    "print(y_test.shape)"
   ]
  },
  {
   "cell_type": "code",
   "execution_count": 38,
   "id": "7e149787-ba96-4412-9c12-e6c98d05b247",
   "metadata": {},
   "outputs": [
    {
     "name": "stdout",
     "output_type": "stream",
     "text": [
      "45/45 [==============================] - 13s 251ms/step\n"
     ]
    }
   ],
   "source": [
    "# Making Preditciton for the Real Time Data\n",
    "\n",
    "y_predicted=model.predict(x_test)"
   ]
  },
  {
   "cell_type": "code",
   "execution_count": 39,
   "id": "4c74e2f0-0dbc-411d-8177-efb46b55f65d",
   "metadata": {},
   "outputs": [
    {
     "data": {
      "text/plain": [
       "(1410, 1)"
      ]
     },
     "execution_count": 39,
     "metadata": {},
     "output_type": "execute_result"
    }
   ],
   "source": [
    "y_predicted.shape\n"
   ]
  },
  {
   "cell_type": "code",
   "execution_count": 40,
   "id": "52806a7a-e931-459e-bb77-96e9ed7fec66",
   "metadata": {},
   "outputs": [
    {
     "data": {
      "text/plain": [
       "array([0.18070889, 0.19669918, 0.20602682, ..., 0.47911749, 0.50182744,\n",
       "       0.51073634])"
      ]
     },
     "execution_count": 40,
     "metadata": {},
     "output_type": "execute_result"
    }
   ],
   "source": [
    "y_test\n"
   ]
  },
  {
   "cell_type": "code",
   "execution_count": 41,
   "id": "770eb0e1-e89e-4c48-9a8e-3596b6163d2b",
   "metadata": {},
   "outputs": [
    {
     "data": {
      "text/plain": [
       "array([[0.0414492 ],\n",
       "       [0.04500963],\n",
       "       [0.0490222 ],\n",
       "       ...,\n",
       "       [0.4125322 ],\n",
       "       [0.41062132],\n",
       "       [0.40879685]], dtype=float32)"
      ]
     },
     "execution_count": 41,
     "metadata": {},
     "output_type": "execute_result"
    }
   ],
   "source": [
    "y_predicted"
   ]
  },
  {
   "cell_type": "code",
   "execution_count": 44,
   "id": "baef56b7-5143-415f-a83c-1c2a52174237",
   "metadata": {},
   "outputs": [
    {
     "data": {
      "text/plain": [
       "array([0.0019036])"
      ]
     },
     "execution_count": 44,
     "metadata": {},
     "output_type": "execute_result"
    }
   ],
   "source": [
    "Scaler.scale_"
   ]
  },
  {
   "cell_type": "code",
   "execution_count": 45,
   "id": "8b156b72-5ee9-4bc9-9877-6f20bf8dbc99",
   "metadata": {},
   "outputs": [],
   "source": [
    "scale_factor= 1/0.0019036"
   ]
  },
  {
   "cell_type": "code",
   "execution_count": 46,
   "id": "9c6f263b-1fd9-4bbb-a24b-7ebb4a7b2605",
   "metadata": {},
   "outputs": [],
   "source": [
    "y_predicted = y_predicted * scale_factor\n",
    "y_test=y_test* scale_factor"
   ]
  },
  {
   "cell_type": "code",
   "execution_count": 47,
   "id": "043f70c7-0484-4d6e-8f9a-2c3d46af184f",
   "metadata": {},
   "outputs": [
    {
     "data": {
      "image/png": "[encoded data removed]",
      "text/plain": [
       "<Figure size 864x432 with 1 Axes>"
      ]
     },
     "metadata": {
      "needs_background": "light"
     },
     "output_type": "display_data"
    }
   ],
   "source": [
    "# Plotting the Predictions Vs Original Value Plot\n",
    "\n",
    "plt.figure(figsize=(12,6))\n",
    "plt.plot(y_test,'b', label='Original Values')\n",
    "plt.plot(y_predicted,'r', label='Predicted Values')\n",
    "plt.xlabel=('TIME')\n",
    "plt.ylabel=('PRICE')\n",
    "plt.legend()\n",
    "plt.show()"
   ]
  },
  {
   "cell_type": "code",
   "execution_count": null,
   "id": "4373547d-4450-441d-80b0-b1d5de85ed27",
   "metadata": {},
   "outputs": [],
   "source": []
  }
 ],
 "metadata": {
  "kernelspec": {
   "display_name": "Python 3 (ipykernel)",
   "language": "python",
   "name": "python3"
  },
  "language_info": {
   "codemirror_mode": {
    "name": "ipython",
    "version": 3
   },
   "file_extension": ".py",
   "mimetype": "text/x-python",
   "name": "python",
   "nbconvert_exporter": "python",
   "pygments_lexer": "ipython3",
   "version": "3.10.12"
  }
 },
 "nbformat": 4,
 "nbformat_minor": 5
}
